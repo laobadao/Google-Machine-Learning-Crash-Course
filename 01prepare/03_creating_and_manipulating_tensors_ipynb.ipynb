{
 "cells": [
  {
   "cell_type": "markdown",
   "metadata": {
    "colab_type": "text",
    "id": "copyright-notice"
   },
   "source": [
    "#### Copyright 2017 Google LLC."
   ]
  },
  {
   "cell_type": "code",
   "execution_count": 0,
   "metadata": {
    "cellView": "both",
    "colab": {
     "autoexec": {
      "startup": false,
      "wait_interval": 0
     }
    },
    "colab_type": "code",
    "id": "copyright-notice2"
   },
   "outputs": [],
   "source": [
    "# Licensed under the Apache License, Version 2.0 (the \"License\");\n",
    "# you may not use this file except in compliance with the License.\n",
    "# You may obtain a copy of the License at\n",
    "#\n",
    "# https://www.apache.org/licenses/LICENSE-2.0\n",
    "#\n",
    "# Unless required by applicable law or agreed to in writing, software\n",
    "# distributed under the License is distributed on an \"AS IS\" BASIS,\n",
    "# WITHOUT WARRANTIES OR CONDITIONS OF ANY KIND, either express or implied.\n",
    "# See the License for the specific language governing permissions and\n",
    "# limitations under the License."
   ]
  },
  {
   "cell_type": "markdown",
   "metadata": {
    "colab_type": "text",
    "id": "P0bQXjp499sl"
   },
   "source": [
    " # 创建和操控张量"
   ]
  },
  {
   "cell_type": "markdown",
   "metadata": {
    "colab_type": "text",
    "id": "I3BCiWJiCGsv"
   },
   "source": [
    " **学习目标：**\n",
    "  * 初始化 TensorFlow `变量`并赋值\n",
    "  * 创建和操控张量\n",
    "  * 回忆线性代数中的加法和乘法知识（如果这些内容对您来说很陌生，请参阅矩阵[加法](https://en.wikipedia.org/wiki/Matrix_addition)和[乘法](https://en.wikipedia.org/wiki/Matrix_multiplication)简介）\n",
    "  * 熟悉基本的 TensorFlow 数学和数组运算"
   ]
  },
  {
   "cell_type": "code",
   "execution_count": 0,
   "metadata": {
    "colab": {
     "autoexec": {
      "startup": false,
      "wait_interval": 0
     }
    },
    "colab_type": "code",
    "id": "85evKRsOIC5a"
   },
   "outputs": [],
   "source": [
    "import tensorflow as tf"
   ]
  },
  {
   "cell_type": "markdown",
   "metadata": {
    "colab_type": "text",
    "id": "PT1sorfH-DdQ"
   },
   "source": [
    " ## 矢量加法\n",
    "\n",
    "您可以对张量执行很多典型数学运算 ([TF API](https://www.tensorflow.org/api_guides/python/math_ops))。以下代码会创建和操控两个矢量（一维张量），每个矢量正好六个元素："
   ]
  },
  {
   "cell_type": "code",
   "execution_count": 39,
   "metadata": {
    "colab": {
     "autoexec": {
      "startup": false,
      "wait_interval": 0
     },
     "base_uri": "https://localhost:8080/",
     "height": 34,
     "output_extras": [
      {
       "item_id": 1
      }
     ]
    },
    "colab_type": "code",
    "executionInfo": {
     "elapsed": 1208,
     "status": "ok",
     "timestamp": 1519894325744,
     "user": {
      "displayName": "赵君君",
      "photoUrl": "//lh3.googleusercontent.com/-wDG5RmnzXhE/AAAAAAAAAAI/AAAAAAAABh4/U_VrM8ajCXM/s50-c-k-no/photo.jpg",
      "userId": "109135270913017245489"
     },
     "user_tz": -480
    },
    "id": "ng37e6ur-GZo",
    "outputId": "50734d8c-3384-4767-cba9-edd6076585c5"
   },
   "outputs": [
    {
     "name": "stdout",
     "output_type": "stream",
     "text": [
      "[ 3  4  6  8 12 14]\n"
     ]
    }
   ],
   "source": [
    "with tf.Graph().as_default():\n",
    "  # Create a six-element vector (1-D tensor).\n",
    "  primes = tf.constant([2, 3, 5, 7, 11, 13], dtype=tf.int32)\n",
    "\n",
    "  # Create another six-element vector. Each element in the vector will be\n",
    "  # initialized to 1. The first argument is the shape of the tensor (more\n",
    "  # on shapes below).\n",
    "  ones = tf.ones([6], dtype=tf.int32)\n",
    "\n",
    "  # Add the two vectors. The resulting tensor is a six-element vector.\n",
    "  just_beyond_primes = tf.add(primes, ones)\n",
    "\n",
    "  # Create a session to run the default graph.\n",
    "  with tf.Session() as sess:\n",
    "    print just_beyond_primes.eval()"
   ]
  },
  {
   "cell_type": "code",
   "execution_count": 40,
   "metadata": {
    "colab": {
     "autoexec": {
      "startup": false,
      "wait_interval": 0
     },
     "base_uri": "https://localhost:8080/",
     "height": 34,
     "output_extras": [
      {
       "item_id": 1
      }
     ]
    },
    "colab_type": "code",
    "executionInfo": {
     "elapsed": 1156,
     "status": "ok",
     "timestamp": 1519894327998,
     "user": {
      "displayName": "赵君君",
      "photoUrl": "//lh3.googleusercontent.com/-wDG5RmnzXhE/AAAAAAAAAAI/AAAAAAAABh4/U_VrM8ajCXM/s50-c-k-no/photo.jpg",
      "userId": "109135270913017245489"
     },
     "user_tz": -480
    },
    "id": "RhoTIkNmj3Lv",
    "outputId": "fb8f6cbb-c2b3-46f3-8e83-f25cf9ba511c"
   },
   "outputs": [
    {
     "name": "stdout",
     "output_type": "stream",
     "text": [
      "[ 3  4  6  8 12 14]\n"
     ]
    }
   ],
   "source": [
    "with tf.Graph().as_default():\n",
    "  \n",
    "  primes = tf.constant([2, 3, 5, 7, 11, 13], dtype=tf.int32)\n",
    "  \n",
    "  ones = tf.ones([6], dtype=tf.int32)\n",
    "  \n",
    "  just_beyond_primes = tf.add(primes, ones)\n",
    "  \n",
    "  with tf.Session() as sess:\n",
    "    \n",
    "    print just_beyond_primes.eval()"
   ]
  },
  {
   "cell_type": "markdown",
   "metadata": {
    "colab_type": "text",
    "id": "fVvaXzzMGZid"
   },
   "source": [
    " ### 张量形状\n",
    "\n",
    "形状用于描述张量维度的大小和数量。张量的形状表示为`列表`，其中第 `i` 个元素表示维度 `i` 的大小。列表的长度表示张量的阶（即维数）。\n",
    "\n",
    "有关详情，请参阅 [TensorFlow 文档](https://www.tensorflow.org/programmers_guide/tensors#shape)。\n",
    "\n",
    "以下是一些基本示例："
   ]
  },
  {
   "cell_type": "code",
   "execution_count": 41,
   "metadata": {
    "colab": {
     "autoexec": {
      "startup": false,
      "wait_interval": 0
     },
     "base_uri": "https://localhost:8080/",
     "height": 136,
     "output_extras": [
      {
       "item_id": 1
      }
     ]
    },
    "colab_type": "code",
    "executionInfo": {
     "elapsed": 1153,
     "status": "ok",
     "timestamp": 1519894329548,
     "user": {
      "displayName": "赵君君",
      "photoUrl": "//lh3.googleusercontent.com/-wDG5RmnzXhE/AAAAAAAAAAI/AAAAAAAABh4/U_VrM8ajCXM/s50-c-k-no/photo.jpg",
      "userId": "109135270913017245489"
     },
     "user_tz": -480
    },
    "id": "PWzvJnIAH_cF",
    "outputId": "15bacef6-1d96-4d29-b05b-090ada4f98eb"
   },
   "outputs": [
    {
     "name": "stdout",
     "output_type": "stream",
     "text": [
      "scalar has shape () and value:\n",
      "0.0\n",
      "vector has shape (3,) and value:\n",
      "[0. 0. 0.]\n",
      "matrix has shape (2, 3) and value:\n",
      "[[0. 0. 0.]\n",
      " [0. 0. 0.]]\n"
     ]
    }
   ],
   "source": [
    "with tf.Graph().as_default():\n",
    "  # A scalar (0-D tensor).\n",
    "  scalar = tf.zeros([])\n",
    "\n",
    "  # A vector with 3 elements.\n",
    "  vector = tf.zeros([3])\n",
    "\n",
    "  # A matrix with 2 rows and 3 columns.\n",
    "  matrix = tf.zeros([2, 3])\n",
    "\n",
    "  with tf.Session() as sess:\n",
    "    print 'scalar has shape', scalar.get_shape(), 'and value:\\n', scalar.eval()\n",
    "    print 'vector has shape', vector.get_shape(), 'and value:\\n', vector.eval()\n",
    "    print 'matrix has shape', matrix.get_shape(), 'and value:\\n', matrix.eval()\n",
    "    "
   ]
  },
  {
   "cell_type": "markdown",
   "metadata": {
    "colab_type": "text",
    "id": "musamrLavR5S"
   },
   "source": [
    " ### 广播\n",
    "\n",
    "在数学中，您只能对形状相同的张量执行元素级运算（例如，*相加*和*等于*）。不过，在 TensorFlow 中，您可以对张量执行传统意义上不可行的运算。TensorFlow 支持**广播**（一种借鉴自 Numpy 的概念）。利用广播，元素级运算中的较小数组会增大到与较大数组具有相同的形状。例如，通过广播：\n",
    "\n",
    "* 如果指令需要大小为 `[6]` 的张量，则大小为 `[1]` 或 `[]` 的张量可以作为运算数。\n",
    "* 如果指令需要大小为 `[4, 6]` 的张量，则以下任何大小的张量都可以作为运算数。\n",
    "  * `[1, 6]`\n",
    "  * `[6]`\n",
    "  * `[]`\n",
    "* 如果指令需要大小为 `[3, 5, 6]` 的张量，则以下任何大小的张量都可以作为运算数。\n",
    "\n",
    "  * `[1, 5, 6]`\n",
    "  * `[3, 1, 6]`\n",
    "  * `[3, 5, 1]`\n",
    "  * `[1, 1, 1]`\n",
    "  * `[5, 6]`\n",
    "  * `[1, 6]`\n",
    "  * `[6]`\n",
    "  * `[1]`\n",
    "  * `[]`\n",
    "  \n",
    "**注意：**当张量被广播时，从概念上来说，系统会**复制**其条目（出于性能考虑，实际并不复制。广播专为实现性能优化而设计）。\n",
    "\n",
    "有关完整的广播规则集，请参阅简单易懂的 [Numpy 广播文档](http://docs.scipy.org/doc/numpy-1.10.1/user/basics.broadcasting.html)。\n",
    "\n",
    "以下代码执行了与之前一样的张量加法，不过使用的是广播："
   ]
  },
  {
   "cell_type": "code",
   "execution_count": 42,
   "metadata": {
    "colab": {
     "autoexec": {
      "startup": false,
      "wait_interval": 0
     },
     "base_uri": "https://localhost:8080/",
     "height": 34,
     "output_extras": [
      {
       "item_id": 1
      }
     ]
    },
    "colab_type": "code",
    "executionInfo": {
     "elapsed": 1297,
     "status": "ok",
     "timestamp": 1519894331270,
     "user": {
      "displayName": "赵君君",
      "photoUrl": "//lh3.googleusercontent.com/-wDG5RmnzXhE/AAAAAAAAAAI/AAAAAAAABh4/U_VrM8ajCXM/s50-c-k-no/photo.jpg",
      "userId": "109135270913017245489"
     },
     "user_tz": -480
    },
    "id": "7lys_BeLy2SD",
    "outputId": "2af9080f-8af9-4405-8866-c711e4a2b9d1"
   },
   "outputs": [
    {
     "name": "stdout",
     "output_type": "stream",
     "text": [
      "[ 3  4  6  8 12 14]\n"
     ]
    }
   ],
   "source": [
    "with tf.Graph().as_default():\n",
    "  # Create a six-element vector (1-D tensor).\n",
    "  primes = tf.constant([2, 3, 5, 7, 11, 13], dtype=tf.int32)\n",
    "\n",
    "  # Create a constant scalar with value 1.\n",
    "  ones = tf.constant(1, dtype=tf.int32)\n",
    "\n",
    "  # Add the two tensors. The resulting tensor is a six-element vector.\n",
    "  just_beyond_primes = tf.add(primes, ones)\n",
    "\n",
    "  with tf.Session() as sess:\n",
    "    print just_beyond_primes.eval()"
   ]
  },
  {
   "cell_type": "markdown",
   "metadata": {
    "colab_type": "text",
    "id": "it0P-AV0-Jb4"
   },
   "source": [
    " ## 矩阵乘法\n",
    "\n",
    "在线性代数中，当两个矩阵相乘时，第一个矩阵的*列*数必须等于第二个矩阵的*行*数。\n",
    "\n",
    "- `3x4` 矩阵乘以 `4x2` 矩阵是**_有效_**的，可以得出一个 `3x2` 矩阵。\n",
    "- `4x2` 矩阵乘以 `3x4` 矩阵是**_无效_**的。"
   ]
  },
  {
   "cell_type": "code",
   "execution_count": 43,
   "metadata": {
    "colab": {
     "autoexec": {
      "startup": false,
      "wait_interval": 0
     },
     "base_uri": "https://localhost:8080/",
     "height": 68,
     "output_extras": [
      {
       "item_id": 1
      }
     ]
    },
    "colab_type": "code",
    "executionInfo": {
     "elapsed": 1181,
     "status": "ok",
     "timestamp": 1519894333232,
     "user": {
      "displayName": "赵君君",
      "photoUrl": "//lh3.googleusercontent.com/-wDG5RmnzXhE/AAAAAAAAAAI/AAAAAAAABh4/U_VrM8ajCXM/s50-c-k-no/photo.jpg",
      "userId": "109135270913017245489"
     },
     "user_tz": -480
    },
    "id": "OVR8QPif-MeS",
    "outputId": "71d9f22f-0d47-41a6-fce9-2c8f5d043050"
   },
   "outputs": [
    {
     "name": "stdout",
     "output_type": "stream",
     "text": [
      "[[35 58]\n",
      " [35 33]\n",
      " [ 1 -4]]\n"
     ]
    }
   ],
   "source": [
    "with tf.Graph().as_default():\n",
    "  # Create a matrix (2-d tensor) with 3 rows and 4 columns.\n",
    "  x = tf.constant([[5, 2, 4, 3], [5, 1, 6, -2], [-1, 3, -1, -2]],\n",
    "                  dtype=tf.int32)\n",
    "\n",
    "  # Create a matrix with 4 rows and 2 columns.\n",
    "  y = tf.constant([[2, 2], [3, 5], [4, 5], [1, 6]], dtype=tf.int32)\n",
    "\n",
    "  # Multiply `x` by `y`. \n",
    "  # The resulting matrix will have 3 rows and 2 columns.\n",
    "  matrix_multiply_result = tf.matmul(x, y)\n",
    "\n",
    "  with tf.Session() as sess:\n",
    "    print matrix_multiply_result.eval()"
   ]
  },
  {
   "cell_type": "markdown",
   "metadata": {
    "colab_type": "text",
    "id": "fziRnmuy-O9x"
   },
   "source": [
    " ## 张量变形\n",
    "\n",
    "由于张量加法和矩阵乘法均对运算数施加了限制条件，TensorFlow 编程者肯定会频繁改变张量的形状。\n",
    "\n",
    "您可以使用 `tf.reshape` 方法改变张量的形状。\n",
    "例如，您可以将 8x2 张量变形为 2x8 张量或 4x4 张量："
   ]
  },
  {
   "cell_type": "code",
   "execution_count": 44,
   "metadata": {
    "colab": {
     "autoexec": {
      "startup": false,
      "wait_interval": 0
     },
     "base_uri": "https://localhost:8080/",
     "height": 306,
     "output_extras": [
      {
       "item_id": 1
      }
     ]
    },
    "colab_type": "code",
    "executionInfo": {
     "elapsed": 1145,
     "status": "ok",
     "timestamp": 1519894334763,
     "user": {
      "displayName": "赵君君",
      "photoUrl": "//lh3.googleusercontent.com/-wDG5RmnzXhE/AAAAAAAAAAI/AAAAAAAABh4/U_VrM8ajCXM/s50-c-k-no/photo.jpg",
      "userId": "109135270913017245489"
     },
     "user_tz": -480
    },
    "id": "L05ob6a_G77m",
    "outputId": "1f8cfba5-67f1-4f45-d580-8577f7b97341"
   },
   "outputs": [
    {
     "name": "stdout",
     "output_type": "stream",
     "text": [
      "Original matrix (8x2):\n",
      "[[ 1  2]\n",
      " [ 3  4]\n",
      " [ 5  6]\n",
      " [ 7  8]\n",
      " [ 9 10]\n",
      " [11 12]\n",
      " [13 14]\n",
      " [15 16]]\n",
      "Reshaped matrix (2x8):\n",
      "[[ 1  2  3  4  5  6  7  8]\n",
      " [ 9 10 11 12 13 14 15 16]]\n",
      "Reshaped matrix (4x4):\n",
      "[[ 1  2  3  4]\n",
      " [ 5  6  7  8]\n",
      " [ 9 10 11 12]\n",
      " [13 14 15 16]]\n"
     ]
    }
   ],
   "source": [
    "with tf.Graph().as_default():\n",
    "  # Create an 8x2 matrix (2-D tensor).\n",
    "  matrix = tf.constant([[1,2], [3,4], [5,6], [7,8],\n",
    "                        [9,10], [11,12], [13, 14], [15,16]], dtype=tf.int32)\n",
    "\n",
    "  # Reshape the 8x2 matrix into a 2x8 matrix.\n",
    "  reshaped_2x8_matrix = tf.reshape(matrix, [2,8])\n",
    "  \n",
    "  # Reshape the 8x2 matrix into a 4x4 matrix\n",
    "  reshaped_4x4_matrix = tf.reshape(matrix, [4,4])\n",
    "\n",
    "  with tf.Session() as sess:\n",
    "    print \"Original matrix (8x2):\"\n",
    "    print matrix.eval()\n",
    "    print \"Reshaped matrix (2x8):\"\n",
    "    print reshaped_2x8_matrix.eval()\n",
    "    print \"Reshaped matrix (4x4):\"\n",
    "    print reshaped_4x4_matrix.eval()"
   ]
  },
  {
   "cell_type": "markdown",
   "metadata": {
    "colab_type": "text",
    "id": "b6cFa92YGyU5"
   },
   "source": [
    " \n",
    "此外，您还可以使用 `tf.reshape` **更改张量的维数（\\'阶\\'）**。\n",
    "例如，您可以将 8x2 张量变形为三维 2x2x4 张量或一维 16 元素张量。"
   ]
  },
  {
   "cell_type": "code",
   "execution_count": 45,
   "metadata": {
    "colab": {
     "autoexec": {
      "startup": false,
      "wait_interval": 0
     },
     "base_uri": "https://localhost:8080/",
     "height": 306,
     "output_extras": [
      {
       "item_id": 1
      }
     ]
    },
    "colab_type": "code",
    "executionInfo": {
     "elapsed": 1638,
     "status": "ok",
     "timestamp": 1519894336628,
     "user": {
      "displayName": "赵君君",
      "photoUrl": "//lh3.googleusercontent.com/-wDG5RmnzXhE/AAAAAAAAAAI/AAAAAAAABh4/U_VrM8ajCXM/s50-c-k-no/photo.jpg",
      "userId": "109135270913017245489"
     },
     "user_tz": -480
    },
    "id": "3MpcwWj9-Sqp",
    "outputId": "a66545e8-68e9-4fb6-b6dc-34d80542553d"
   },
   "outputs": [
    {
     "name": "stdout",
     "output_type": "stream",
     "text": [
      "Original matrix (8x2):\n",
      "[[ 1  2]\n",
      " [ 3  4]\n",
      " [ 5  6]\n",
      " [ 7  8]\n",
      " [ 9 10]\n",
      " [11 12]\n",
      " [13 14]\n",
      " [15 16]]\n",
      "Reshaped 3-D tensor (2x2x4):\n",
      "[[[ 1  2  3  4]\n",
      "  [ 5  6  7  8]]\n",
      "\n",
      " [[ 9 10 11 12]\n",
      "  [13 14 15 16]]]\n",
      "1-D vector:\n",
      "[ 1  2  3  4  5  6  7  8  9 10 11 12 13 14 15 16]\n"
     ]
    }
   ],
   "source": [
    "with tf.Graph().as_default():\n",
    "  # Create an 8x2 matrix (2-D tensor).\n",
    "  matrix = tf.constant([[1,2], [3,4], [5,6], [7,8],\n",
    "                        [9,10], [11,12], [13, 14], [15,16]], dtype=tf.int32)\n",
    "\n",
    "  # Reshape the 8x2 matrix into a 3-D 2x2x4 tensor.\n",
    "  reshaped_2x2x4_tensor = tf.reshape(matrix, [2,2,4])\n",
    "  \n",
    "  # Reshape the 8x2 matrix into a 1-D 16-element tensor.\n",
    "  one_dimensional_vector = tf.reshape(matrix, [16])\n",
    "\n",
    "  with tf.Session() as sess:\n",
    "    print \"Original matrix (8x2):\"\n",
    "    print matrix.eval()\n",
    "    print \"Reshaped 3-D tensor (2x2x4):\"\n",
    "    print reshaped_2x2x4_tensor.eval()\n",
    "    print \"1-D vector:\"\n",
    "    print one_dimensional_vector.eval()"
   ]
  },
  {
   "cell_type": "markdown",
   "metadata": {
    "colab_type": "text",
    "id": "CrpowaWo-VLq"
   },
   "source": [
    " ### 练习 1：改变两个张量的形状，使其能够相乘。\n",
    "\n",
    "下面两个矢量无法进行矩阵乘法运算：\n",
    "\n",
    "  *  `a = tf.constant([5, 3, 2, 7, 1, 4])`\n",
    "  *  `b = tf.constant([4, 6, 3])`\n",
    "\n",
    "请改变这两个矢量的形状，使其成为可以进行矩阵乘法运算的运算数。\n",
    "然后，对变形后的张量调用矩阵乘法运算。"
   ]
  },
  {
   "cell_type": "code",
   "execution_count": 46,
   "metadata": {
    "colab": {
     "autoexec": {
      "startup": false,
      "wait_interval": 0
     },
     "base_uri": "https://localhost:8080/",
     "height": 187,
     "output_extras": [
      {
       "item_id": 1
      }
     ]
    },
    "colab_type": "code",
    "executionInfo": {
     "elapsed": 1163,
     "status": "ok",
     "timestamp": 1519894338225,
     "user": {
      "displayName": "赵君君",
      "photoUrl": "//lh3.googleusercontent.com/-wDG5RmnzXhE/AAAAAAAAAAI/AAAAAAAABh4/U_VrM8ajCXM/s50-c-k-no/photo.jpg",
      "userId": "109135270913017245489"
     },
     "user_tz": -480
    },
    "id": "p6idvaeK-Zxq",
    "outputId": "1feff9d1-7f03-4391-d271-e1ccc6637255"
   },
   "outputs": [
    {
     "name": "stdout",
     "output_type": "stream",
     "text": [
      "c.eval():\n",
      "[[44]\n",
      " [46]]\n",
      "d.eval():\n",
      "[[20 30 15]\n",
      " [12 18  9]\n",
      " [ 8 12  6]\n",
      " [28 42 21]\n",
      " [ 4  6  3]\n",
      " [16 24 12]]\n"
     ]
    }
   ],
   "source": [
    "  # Write your code for Task 1 here.\n",
    "  import tensorflow as tf \n",
    "  \n",
    "  a = tf.constant([5, 3, 2, 7, 1, 4])\n",
    "  \n",
    "  b = tf.constant([4, 6, 3])\n",
    "  \n",
    "  a_reshape1 = tf.reshape(a, [2,3])\n",
    "  \n",
    "  b_reshape1 = tf.reshape(b, [3,1])\n",
    "  \n",
    "  a_reshape2 = tf.reshape(a, [6,1])\n",
    "  \n",
    "  b_reshape2 = tf.reshape(b, [1,3])\n",
    "  \n",
    "  c = tf.matmul(a_reshape1, b_reshape1)\n",
    "  \n",
    "  d = tf.matmul(a_reshape2, b_reshape2)\n",
    "  \n",
    "  with tf.Session() as sess:\n",
    "      print 'c.eval():\\n', c.eval()\n",
    "      \n",
    "      print 'd.eval():\\n', d.eval()\n"
   ]
  },
  {
   "cell_type": "markdown",
   "metadata": {
    "colab_type": "text",
    "id": "EYzU56M4MG_x"
   },
   "source": [
    " ### 解决方案\n",
    "\n",
    "点击下方，查看解决方案。"
   ]
  },
  {
   "cell_type": "code",
   "execution_count": 47,
   "metadata": {
    "colab": {
     "autoexec": {
      "startup": false,
      "wait_interval": 0
     },
     "base_uri": "https://localhost:8080/",
     "height": 51,
     "output_extras": [
      {
       "item_id": 1
      }
     ]
    },
    "colab_type": "code",
    "executionInfo": {
     "elapsed": 1569,
     "status": "ok",
     "timestamp": 1519894340245,
     "user": {
      "displayName": "赵君君",
      "photoUrl": "//lh3.googleusercontent.com/-wDG5RmnzXhE/AAAAAAAAAAI/AAAAAAAABh4/U_VrM8ajCXM/s50-c-k-no/photo.jpg",
      "userId": "109135270913017245489"
     },
     "user_tz": -480
    },
    "id": "8Sef4d0SMMtk",
    "outputId": "89835d50-c8c3-4b1b-9c89-7459bdf28d36"
   },
   "outputs": [
    {
     "name": "stdout",
     "output_type": "stream",
     "text": [
      "[[44]\n",
      " [46]]\n"
     ]
    }
   ],
   "source": [
    "with tf.Graph().as_default(), tf.Session() as sess:\n",
    "  # Task: Reshape two tensors in order to multiply them\n",
    "  \n",
    "  # Here are the original operands, which are incompatible\n",
    "  # for matrix multiplication:\n",
    "  a = tf.constant([5, 3, 2, 7, 1, 4])\n",
    "  b = tf.constant([4, 6, 3])\n",
    "  # We need to reshape at least one of these operands so that\n",
    "  # the number of columns in the first operand equals the number\n",
    "  # of rows in the second operand.\n",
    "\n",
    "  # Reshape vector \"a\" into a 2-D 2x3 matrix:\n",
    "  reshaped_a = tf.reshape(a, [2,3])\n",
    "\n",
    "  # Reshape vector \"b\" into a 2-D 3x1 matrix:\n",
    "  reshaped_b = tf.reshape(b, [3,1])\n",
    "\n",
    "  # The number of columns in the first matrix now equals\n",
    "  # the number of rows in the second matrix. Therefore, you\n",
    "  # can matrix mutiply the two operands.\n",
    "  c = tf.matmul(reshaped_a, reshaped_b)\n",
    "  print(c.eval())\n",
    "\n",
    "  # An alternate approach: [6,1] x [1, 3] -> [6,3]"
   ]
  },
  {
   "cell_type": "markdown",
   "metadata": {
    "colab_type": "text",
    "id": "x1JYo7iE2oKk"
   },
   "source": [
    " ## 变量、初始化和赋值\n",
    "\n",
    "到目前为止，我们执行的所有运算都是针对静态值 (`tf.constant`) 进行的；调用 `eval()` 始终返回同一结果。在 TensorFlow 中可以定义 `Variable` 对象，它的值是可以更改的。\n",
    "\n",
    "创建变量时，您可以明确设置一个初始值，也可以使用初始化程序（例如分布）："
   ]
  },
  {
   "cell_type": "code",
   "execution_count": 0,
   "metadata": {
    "colab": {
     "autoexec": {
      "startup": false,
      "wait_interval": 0
     }
    },
    "colab_type": "code",
    "id": "6opLnjfD3PdL"
   },
   "outputs": [],
   "source": [
    "g = tf.Graph()\n",
    "with g.as_default():\n",
    "  # Create a variable with the initial value 3.\n",
    "  v = tf.Variable([3])\n",
    "\n",
    "  # Create a variable of shape [1], with a random initial value,\n",
    "  # sampled from a normal distribution with mean 1 and standard deviation 0.35.\n",
    "  w = tf.Variable(tf.random_normal([1], mean=1.0, stddev=0.35))"
   ]
  },
  {
   "cell_type": "code",
   "execution_count": 0,
   "metadata": {
    "colab": {
     "autoexec": {
      "startup": false,
      "wait_interval": 0
     }
    },
    "colab_type": "code",
    "id": "xix4dwRCs4Cp"
   },
   "outputs": [],
   "source": [
    "g = tf.Graph()\n",
    "with g.as_default():\n",
    "  v = tf.Variable([3])\n",
    "  w = tf.Variable(tf.random_normal([1], mean=1.0, stddev=0.35))"
   ]
  },
  {
   "cell_type": "markdown",
   "metadata": {
    "colab_type": "text",
    "id": "qDYRXHTA4PTB"
   },
   "source": [
    " TensorFlow 的一个特性是**变量初始化不是自动进行的**。例如，以下代码块会导致错误："
   ]
  },
  {
   "cell_type": "code",
   "execution_count": 50,
   "metadata": {
    "colab": {
     "autoexec": {
      "startup": false,
      "wait_interval": 0
     },
     "base_uri": "https://localhost:8080/",
     "height": 51,
     "output_extras": [
      {
       "item_id": 1
      }
     ]
    },
    "colab_type": "code",
    "executionInfo": {
     "elapsed": 1140,
     "status": "ok",
     "timestamp": 1519894344599,
     "user": {
      "displayName": "赵君君",
      "photoUrl": "//lh3.googleusercontent.com/-wDG5RmnzXhE/AAAAAAAAAAI/AAAAAAAABh4/U_VrM8ajCXM/s50-c-k-no/photo.jpg",
      "userId": "109135270913017245489"
     },
     "user_tz": -480
    },
    "id": "d0OX1YRY5PTP",
    "outputId": "3a48097f-35f6-4c90-9a4b-8fc3437caa82"
   },
   "outputs": [
    {
     "name": "stdout",
     "output_type": "stream",
     "text": [
      "Caught expected error:  Attempting to use uninitialized value Variable\n",
      "\t [[Node: _retval_Variable_0_0 = _Retval[T=DT_INT32, index=0, _device=\"/job:localhost/replica:0/task:0/device:CPU:0\"](Variable)]]\n"
     ]
    }
   ],
   "source": [
    "with g.as_default():\n",
    "  with tf.Session() as sess:\n",
    "    try:\n",
    "      v.eval()\n",
    "    except tf.errors.FailedPreconditionError as e:\n",
    "      print \"Caught expected error: \", e"
   ]
  },
  {
   "cell_type": "markdown",
   "metadata": {
    "colab_type": "text",
    "id": "v7_aT7Hr5rnC"
   },
   "source": [
    " 要初始化变量，最简单的方式是调用 `global_variables_initializer`。请注意 `Session.run()` 的用法（与 `eval()` 的用法大致相同）。"
   ]
  },
  {
   "cell_type": "code",
   "execution_count": 51,
   "metadata": {
    "colab": {
     "autoexec": {
      "startup": false,
      "wait_interval": 0
     },
     "base_uri": "https://localhost:8080/",
     "height": 51,
     "output_extras": [
      {
       "item_id": 1
      }
     ]
    },
    "colab_type": "code",
    "executionInfo": {
     "elapsed": 1420,
     "status": "ok",
     "timestamp": 1519894346639,
     "user": {
      "displayName": "赵君君",
      "photoUrl": "//lh3.googleusercontent.com/-wDG5RmnzXhE/AAAAAAAAAAI/AAAAAAAABh4/U_VrM8ajCXM/s50-c-k-no/photo.jpg",
      "userId": "109135270913017245489"
     },
     "user_tz": -480
    },
    "id": "z2lvhrxI5zJF",
    "outputId": "97e93544-78ee-4a65-986b-aad61c189335"
   },
   "outputs": [
    {
     "name": "stdout",
     "output_type": "stream",
     "text": [
      "[3]\n",
      "[0.43437064]\n"
     ]
    }
   ],
   "source": [
    "with g.as_default():\n",
    "  with tf.Session() as sess:\n",
    "    initialization = tf.global_variables_initializer()\n",
    "    sess.run(initialization)\n",
    "    # Now, variables can be accessed normally, and have values assigned to them.\n",
    "    print v.eval()\n",
    "    print w.eval()\n"
   ]
  },
  {
   "cell_type": "code",
   "execution_count": 52,
   "metadata": {
    "colab": {
     "autoexec": {
      "startup": false,
      "wait_interval": 0
     },
     "base_uri": "https://localhost:8080/",
     "height": 51,
     "output_extras": [
      {
       "item_id": 1
      }
     ]
    },
    "colab_type": "code",
    "executionInfo": {
     "elapsed": 1142,
     "status": "ok",
     "timestamp": 1519894348354,
     "user": {
      "displayName": "赵君君",
      "photoUrl": "//lh3.googleusercontent.com/-wDG5RmnzXhE/AAAAAAAAAAI/AAAAAAAABh4/U_VrM8ajCXM/s50-c-k-no/photo.jpg",
      "userId": "109135270913017245489"
     },
     "user_tz": -480
    },
    "id": "QumWIqA8ts9L",
    "outputId": "4b923246-96cc-4953-b8bd-38064b4d1f45"
   },
   "outputs": [
    {
     "name": "stdout",
     "output_type": "stream",
     "text": [
      "[3]\n",
      "[1.1014321]\n"
     ]
    }
   ],
   "source": [
    "with g.as_default():\n",
    "  with tf.Session() as sess:\n",
    "    init = tf.global_variables_initializer()\n",
    "    sess.run(init)\n",
    "    print v.eval()\n",
    "    print w.eval()"
   ]
  },
  {
   "cell_type": "markdown",
   "metadata": {
    "colab_type": "text",
    "id": "0GkYh7jf6JUd"
   },
   "source": [
    " 初始化后，变量的值保留在同一会话中（不过，当您启动新会话时，需要重新初始化它们）："
   ]
  },
  {
   "cell_type": "code",
   "execution_count": 53,
   "metadata": {
    "colab": {
     "autoexec": {
      "startup": false,
      "wait_interval": 0
     },
     "base_uri": "https://localhost:8080/",
     "height": 68,
     "output_extras": [
      {
       "item_id": 1
      }
     ]
    },
    "colab_type": "code",
    "executionInfo": {
     "elapsed": 710,
     "status": "ok",
     "timestamp": 1519894349475,
     "user": {
      "displayName": "赵君君",
      "photoUrl": "//lh3.googleusercontent.com/-wDG5RmnzXhE/AAAAAAAAAAI/AAAAAAAABh4/U_VrM8ajCXM/s50-c-k-no/photo.jpg",
      "userId": "109135270913017245489"
     },
     "user_tz": -480
    },
    "id": "_E8_lhS06IoV",
    "outputId": "5f66e763-51d6-4d32-fdbd-3d16bf5c2b3c"
   },
   "outputs": [
    {
     "name": "stdout",
     "output_type": "stream",
     "text": [
      "[0.78335255]\n",
      "[0.78335255]\n",
      "[0.78335255]\n"
     ]
    }
   ],
   "source": [
    "with g.as_default():\n",
    "  with tf.Session() as sess:\n",
    "    sess.run(tf.global_variables_initializer())\n",
    "    # These three prints will print the same value.\n",
    "    print w.eval()\n",
    "    print w.eval()\n",
    "    print w.eval()"
   ]
  },
  {
   "cell_type": "markdown",
   "metadata": {
    "colab_type": "text",
    "id": "yrZ31hPw66uy"
   },
   "source": [
    " 要更改变量的值，请使用 `assign` 指令。请注意，仅创建 `assign` 指令不会起到任何作用。和初始化一样，您必须`运行`赋值指令才能更新变量值："
   ]
  },
  {
   "cell_type": "code",
   "execution_count": 54,
   "metadata": {
    "colab": {
     "autoexec": {
      "startup": false,
      "wait_interval": 0
     },
     "base_uri": "https://localhost:8080/",
     "height": 68,
     "output_extras": [
      {
       "item_id": 1
      }
     ]
    },
    "colab_type": "code",
    "executionInfo": {
     "elapsed": 1169,
     "status": "ok",
     "timestamp": 1519894351265,
     "user": {
      "displayName": "赵君君",
      "photoUrl": "//lh3.googleusercontent.com/-wDG5RmnzXhE/AAAAAAAAAAI/AAAAAAAABh4/U_VrM8ajCXM/s50-c-k-no/photo.jpg",
      "userId": "109135270913017245489"
     },
     "user_tz": -480
    },
    "id": "zD0D1DCR7NBX",
    "outputId": "5e3b731f-178e-42b0-9330-5bafdc95a16f"
   },
   "outputs": [
    {
     "name": "stdout",
     "output_type": "stream",
     "text": [
      "[3]\n",
      "[3]\n",
      "[7]\n"
     ]
    }
   ],
   "source": [
    "with g.as_default():\n",
    "  with tf.Session() as sess:\n",
    "    sess.run(tf.global_variables_initializer())\n",
    "    # This should print the variable's initial value.\n",
    "    print v.eval()\n",
    "\n",
    "    assignment = tf.assign(v, [7])\n",
    "    # The variable has not been changed yet!\n",
    "    print v.eval()\n",
    "\n",
    "    # Execute the assignment op.\n",
    "    sess.run(assignment)\n",
    "    # Now the variable is updated.\n",
    "    print v.eval()"
   ]
  },
  {
   "cell_type": "code",
   "execution_count": 55,
   "metadata": {
    "colab": {
     "autoexec": {
      "startup": false,
      "wait_interval": 0
     },
     "base_uri": "https://localhost:8080/",
     "height": 51,
     "output_extras": [
      {
       "item_id": 1
      }
     ]
    },
    "colab_type": "code",
    "executionInfo": {
     "elapsed": 1151,
     "status": "ok",
     "timestamp": 1519894352808,
     "user": {
      "displayName": "赵君君",
      "photoUrl": "//lh3.googleusercontent.com/-wDG5RmnzXhE/AAAAAAAAAAI/AAAAAAAABh4/U_VrM8ajCXM/s50-c-k-no/photo.jpg",
      "userId": "109135270913017245489"
     },
     "user_tz": -480
    },
    "id": "RcnHXiZcvy8q",
    "outputId": "17985a18-ab34-45af-fec9-8936f55419bd"
   },
   "outputs": [
    {
     "name": "stdout",
     "output_type": "stream",
     "text": [
      "[3]\n",
      "[888]\n"
     ]
    }
   ],
   "source": [
    "\n",
    "with g.as_default():\n",
    "  with tf.Session() as sess:\n",
    "    sess.run(tf.global_variables_initializer())\n",
    "    print v.eval()\n",
    "    \n",
    "    assign = tf.assign(v, [888])\n",
    "    sess.run(assign)\n",
    "    print v.eval()\n",
    "    "
   ]
  },
  {
   "cell_type": "markdown",
   "metadata": {
    "colab_type": "text",
    "id": "tB78Zq4h78Zr"
   },
   "source": [
    " 还有很多关于变量的内容我们并未在这里提及，例如加载和存储。要了解详情，请参阅 [TensorFlow 文档](https://www.tensorflow.org/programmers_guide/variables)。"
   ]
  },
  {
   "cell_type": "markdown",
   "metadata": {
    "colab_type": "text",
    "id": "iFIOcnfz_Oqw"
   },
   "source": [
    " ### 练习 2：模拟投掷两个骰子 10 次。\n",
    "\n",
    "创建一个骰子模拟，在模拟中生成一个 `10x3` 二维张量，其中：\n",
    "\n",
    "  * 列 `1` 和 `2` 均存储一个骰子的一次投掷值。\n",
    "  * 列 `3` 存储同一行中列 `1` 和 `2` 的值的总和。\n",
    "\n",
    "例如，第一行中可能会包含以下值：\n",
    "\n",
    "  * 列 `1` 存储 `4`\n",
    "  * 列 `2` 存储 `3`\n",
    "  * 列 `3` 存储 `7`\n",
    "\n",
    "要完成此任务，您需要浏览 [TensorFlow 文档](https://www.tensorflow.org/api_guides/python/array_ops)。"
   ]
  },
  {
   "cell_type": "code",
   "execution_count": 64,
   "metadata": {
    "colab": {
     "autoexec": {
      "startup": false,
      "wait_interval": 0
     },
     "base_uri": "https://localhost:8080/",
     "height": 187,
     "output_extras": [
      {
       "item_id": 1
      }
     ]
    },
    "colab_type": "code",
    "executionInfo": {
     "elapsed": 1159,
     "status": "ok",
     "timestamp": 1519895700914,
     "user": {
      "displayName": "赵君君",
      "photoUrl": "//lh3.googleusercontent.com/-wDG5RmnzXhE/AAAAAAAAAAI/AAAAAAAABh4/U_VrM8ajCXM/s50-c-k-no/photo.jpg",
      "userId": "109135270913017245489"
     },
     "user_tz": -480
    },
    "id": "ocwT0iXH-nhT",
    "outputId": "22bee489-a71c-4ba8-b8d0-4cf122732abc"
   },
   "outputs": [
    {
     "name": "stdout",
     "output_type": "stream",
     "text": [
      "[[ 3  5  8]\n",
      " [ 3  6  9]\n",
      " [ 6  5 11]\n",
      " [ 4  2  6]\n",
      " [ 3  5  8]\n",
      " [ 4  2  6]\n",
      " [ 4  6 10]\n",
      " [ 1  6  7]\n",
      " [ 2  3  5]\n",
      " [ 2  4  6]]\n"
     ]
    }
   ],
   "source": [
    "# Write your code for Task 2 here.\n",
    "\n",
    "import tensorflow as tf \n",
    "\n",
    "with tf.Graph().as_default():\n",
    "  with tf.Session() as sess:\n",
    "    \n",
    "    d1 = tf.Variable(tf.random_uniform([10, 1],minval=1, maxval=7,dtype=tf.int32))\n",
    "    d2 = tf.Variable(tf.random_uniform([10, 1], minval=1, maxval=7,dtype=tf.int32))\n",
    "    d3 = tf.add(d1, d2)\n",
    "             \n",
    "    result = tf.concat(values=[d1, d2, d3], axis=1)      \n",
    "    sess.run(tf.global_variables_initializer())\n",
    "    print(result.eval())"
   ]
  },
  {
   "cell_type": "markdown",
   "metadata": {
    "colab_type": "text",
    "id": "Kt7aojXkR_qS"
   },
   "source": [
    " ### 解决方案\n",
    "\n",
    "点击下方，查看解决方案。"
   ]
  },
  {
   "cell_type": "code",
   "execution_count": 57,
   "metadata": {
    "colab": {
     "autoexec": {
      "startup": false,
      "wait_interval": 0
     },
     "base_uri": "https://localhost:8080/",
     "height": 187,
     "output_extras": [
      {
       "item_id": 1
      }
     ]
    },
    "colab_type": "code",
    "executionInfo": {
     "elapsed": 1341,
     "status": "ok",
     "timestamp": 1519894356079,
     "user": {
      "displayName": "赵君君",
      "photoUrl": "//lh3.googleusercontent.com/-wDG5RmnzXhE/AAAAAAAAAAI/AAAAAAAABh4/U_VrM8ajCXM/s50-c-k-no/photo.jpg",
      "userId": "109135270913017245489"
     },
     "user_tz": -480
    },
    "id": "6UUluecQSCvr",
    "outputId": "0bc4a6f9-7af0-4104-9382-cab6a7880f8e"
   },
   "outputs": [
    {
     "name": "stdout",
     "output_type": "stream",
     "text": [
      "[[ 6  5 11]\n",
      " [ 6  2  8]\n",
      " [ 5  6 11]\n",
      " [ 2  3  5]\n",
      " [ 4  3  7]\n",
      " [ 3  4  7]\n",
      " [ 1  1  2]\n",
      " [ 5  4  9]\n",
      " [ 5  4  9]\n",
      " [ 5  5 10]]\n"
     ]
    }
   ],
   "source": [
    "with tf.Graph().as_default(), tf.Session() as sess:\n",
    "  # Task 2: Simulate 10 throws of two dice. Store the results\n",
    "  # in a 10x3 matrix.\n",
    "\n",
    "  # We're going to place dice throws inside two separate\n",
    "  # 10x1 matrices. We could have placed dice throws inside\n",
    "  # a single 10x2 matrix, but adding different columns of\n",
    "  # the same matrix is tricky. We also could have placed\n",
    "  # dice throws inside two 1-D tensors (vectors); doing so\n",
    "  # would require transposing the result.\n",
    "  dice1 = tf.Variable(tf.random_uniform([10, 1],\n",
    "                                        minval=1, maxval=7,\n",
    "                                        dtype=tf.int32))\n",
    "  dice2 = tf.Variable(tf.random_uniform([10, 1],\n",
    "                                        minval=1, maxval=7,\n",
    "                                        dtype=tf.int32))\n",
    "\n",
    "  # We may add dice1 and dice2 since they share the same shape\n",
    "  # and size.\n",
    "  dice_sum = tf.add(dice1, dice2)\n",
    "\n",
    "  # We've got three separate 10x1 matrices. To produce a single\n",
    "  # 10x3 matrix, we'll concatenate them along dimension 1.\n",
    "  resulting_matrix = tf.concat(\n",
    "      values=[dice1, dice2, dice_sum], axis=1)\n",
    "\n",
    "  # The variables haven't been initialized within the graph yet,\n",
    "  # so let's remedy that.\n",
    "  sess.run(tf.global_variables_initializer())\n",
    "\n",
    "  print(resulting_matrix.eval())"
   ]
  }
 ],
 "metadata": {
  "colab": {
   "collapsed_sections": [
    "copyright-notice"
   ],
   "default_view": {},
   "name": "“creating_and_manipulating_tensors.ipynb”的副本",
   "provenance": [
    {
     "file_id": "/v2/external/notebooks/mlcc/creating_and_manipulating_tensors.ipynb",
     "timestamp": 1519889606157
    }
   ],
   "version": "0.3.2",
   "views": {}
  },
  "kernelspec": {
   "display_name": "Python 3",
   "language": "python",
   "name": "python3"
  },
  "language_info": {
   "codemirror_mode": {
    "name": "ipython",
    "version": 3
   },
   "file_extension": ".py",
   "mimetype": "text/x-python",
   "name": "python",
   "nbconvert_exporter": "python",
   "pygments_lexer": "ipython3",
   "version": "3.6.2"
  }
 },
 "nbformat": 4,
 "nbformat_minor": 1
}
